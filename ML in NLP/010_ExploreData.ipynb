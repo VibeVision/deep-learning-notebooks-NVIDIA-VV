{
 "cells": [
  {
   "cell_type": "markdown",
   "metadata": {},
   "source": [
    "<a href=\"https://www.nvidia.com/dli\"> <img src=\"../images/DLI_Header.png\" alt=\"Header\" style=\"width: 400px;\"/> </a>"
   ]
  },
  {
   "cell_type": "markdown",
   "metadata": {},
   "source": [
    "# 1.0 Explore the Data\n",
    "\n",
    "In this notebook, you'll explore the datasets and annotations for the projects in this section of the course.  The purpose of taking a close look at the data is to provide a clear picture of the inputs for the models, as well as provide insight into how you might structure your own datasets for future projects.\n",
    "\n",
    "**[1.1 Corpus Annotated Data](#1.1-Corpus-Annotated-Data)<br>**\n",
    "**[1.2 Text Classification Dataset](#1.2-Text-Classification-Dataset)<br>**\n",
    "&nbsp;&nbsp;&nbsp;&nbsp;[1.2.1 Exercise: Explore the Test Set](#1.2.1-Exercise:-Explore-the-Test-Set)<br>\n",
    "**[1.3 NER Dataset](#1.3-NER-Dataset)<br>**"
   ]
  },
  {
   "cell_type": "markdown",
   "metadata": {},
   "source": [
    "# 1.1 Corpus Annotated Data"
   ]
  },
  {
   "cell_type": "markdown",
   "metadata": {},
   "source": [
    "The [NCBI-disease corpus](https://www.ncbi.nlm.nih.gov/CBBresearch/Dogan/DISEASE/) is a set of 793 PubMed abstracts, annotated by 14 annotators. The annotations take the form of HTML-style tags inserted into the abstract text using the clearly defined rules.  The annotations identify named diseases, and can be used to fine-tune a language model to identify disease mentions in future abstracts, *whether those diseases were part of the original training set or not*.  \n",
    "\n",
    "Here's an example of what an annotated abstract from the corpus looks like:"
   ]
  },
  {
   "cell_type": "markdown",
   "metadata": {},
   "source": [
    "```html\n",
    "10021369\tIdentification of APC2, a homologue of the <category=\"Modifier\">adenomatous polyposis coli tumour</category> suppressor .\tThe <category=\"Modifier\">adenomatous polyposis coli ( APC ) tumour</category>-suppressor protein controls the Wnt signalling pathway by forming a complex with glycogen synthase kinase 3beta ( GSK-3beta ) , axin / conductin and betacatenin . Complex formation induces the rapid degradation of betacatenin . In <category=\"Modifier\">colon carcinoma</category> cells , loss of APC leads to the accumulation of betacatenin in the nucleus , where it binds to and activates the Tcf-4 transcription factor ( reviewed in [ 1 ] [ 2 ] ) . Here , we report the identification and genomic structure of APC homologues . Mammalian APC2 , which closely resembles APC in overall domain structure , was functionally analyzed and shown to contain two SAMP domains , both of which are required for binding to conductin . Like APC , APC2 regulates the formation of active betacatenin-Tcf complexes , as demonstrated using transient transcriptional activation assays in APC - / - <category=\"Modifier\">colon carcinoma</category> cells . Human APC2 maps to chromosome 19p13 . 3 . APC and APC2 may therefore have comparable functions in development and <category=\"SpecificDisease\">cancer</category> .\n",
    "```"
   ]
  },
  {
   "cell_type": "markdown",
   "metadata": {},
   "source": [
    "In this example, we see the following tags within the abstract:\n",
    "```html\n",
    "<category=\"Modifier\">adenomatous polyposis coli tumour</category>\n",
    "<category=\"Modifier\">adenomatous polyposis coli ( APC ) tumour</category>\n",
    "<category=\"Modifier\">colon carcinoma</category>\n",
    "<category=\"Modifier\">colon carcinoma</category>\n",
    "<category=\"SpecificDisease\">cancer</category>\n",
    "```\n",
    "For our purposes, we will consider any identified category (such as \"Modifier\", \"Specific Disease\", and a few others) to generally be a \"disease\".  If you want to see more examples, you can explore the text of the corpus using the file browser to the left, or open files directly: \n",
    "\n",
    "* [data/NCBI_corpus/NCBI_corpus_training.txt](data/NCBI_corpus/NCBI_corpus_training.txt)\n",
    "* [data/NCBI_corpus/NCBI_corpus_testing.txt](data/NCBI_corpus/NCBI_corpus_testing.txt)\n",
    "* [data/NCBI_corpus/NCBI_corpus_development.txt](data/NCBI_corpus/NCBI_corpus_development.txt)\n",
    "\n",
    "We have two datasets derived from this corpus:  a text classification dataset and a named entity recognition (NER) dataset.  The text classification dataset labels the abstracts among three broad disease groupings.  We'll use this simple split to demonstrate the NLP text classification task.   The NER dataset labels individual words as diseases.  This dataset will be used for the NLP NER task.  "
   ]
  },
  {
   "cell_type": "markdown",
   "metadata": {},
   "source": [
    "# 1.2 Text Classification Dataset"
   ]
  },
  {
   "cell_type": "markdown",
   "metadata": {},
   "source": [
    "The text classification task seeks to categorize text according to its content.  Examples of applications for text classification include sentiment analysis (two classes) and topic labeling (multiple classes).  To understand what kind of dataset we need, we first need to decide what question we want to ask.\n",
    "\n",
    "### Sentiment Analysis\n",
    "For example, if we are analyzing the reviews from movies, our question might be:<br>\n",
    "**Given a movie-review sentence, is the sentiment positive or negative?**<br>\n",
    "In such an analysis, we need to look at sentences, and we only have two classes: \"positive\" and \"negative\".  Each sentence in the training set must be labeled as one or the other. Sentiment analysis is widely used by businesses to identify customer sentiment toward products, brands, or services in online conversations and feedback.\n",
    "\n",
    "### Multi-Class Analysis\n",
    "For our project, we'll ask a different question:<br>\n",
    "**Given a medical disease abstract, is the abstract about cancer, a neurological disorder, or something else?**<br>\n",
    "For our use case, we are looking at entire abstracts, not just sentences, and we have identified three classes: \"cancer\", \"neurological\", and \"other\".  As a naive approach for the purposes of this lab, the abstracts are labeled based on the diseases identified that fall into these three categories.  The data is stored in `.tsv` format.  This is similar to the common `.csv` comma-delimited format, but uses tabs to delimit columns instead.  Execute the following cell to see a list of `.tsv` files for the 3-class datasets for text classification."
   ]
  },
  {
   "cell_type": "code",
   "execution_count": 1,
   "metadata": {},
   "outputs": [
    {
     "name": "stdout",
     "output_type": "stream",
     "text": [
      "total 1.4M\n",
      "-rw-r--r-- 1 702112 10513 133K Jul 21  2020 dev.tsv\n",
      "-rw-r--r-- 1 702112 10513  15K Jul 21  2020 test.tsv\n",
      "-rw-r--r-- 1 702112 10513 1.2M Jul 21  2020 train.tsv\n"
     ]
    }
   ],
   "source": [
    "TC_DATA_DIR = '/dli/task/data/NCBI_tc-3/'\n",
    "!ls -lh $TC_DATA_DIR"
   ]
  },
  {
   "cell_type": "markdown",
   "metadata": {},
   "source": [
    "In JupyterLab, you can explore the files and data using the file explorer at the left.  For the notebooks, we'll use [_pandas_](https://pandas.pydata.org/docs/user_guide/index.html) to import and and view the data, which will be a useful way to import the data for the models.  \n",
    "\n",
    "We can import the data into a _pandas_ DataFrame object using the `pd.read_csv()` function, specifying the tab as a delimiter.  The `.head()` function displays the top 5 rows of data.  Each row includes a raw lowercase abstract and a label.  The labels for the three categories of \"cancer\", \"neurological\", and \"other\" are the values 0, 1, and 2 respectively."
   ]
  },
  {
   "cell_type": "code",
   "execution_count": 2,
   "metadata": {},
   "outputs": [],
   "source": [
    "import pandas as pd\n",
    "pd.options.display.max_colwidth = -1"
   ]
  },
  {
   "cell_type": "code",
   "execution_count": 3,
   "metadata": {},
   "outputs": [
    {
     "data": {
      "text/html": [
       "<div>\n",
       "<style scoped>\n",
       "    .dataframe tbody tr th:only-of-type {\n",
       "        vertical-align: middle;\n",
       "    }\n",
       "\n",
       "    .dataframe tbody tr th {\n",
       "        vertical-align: top;\n",
       "    }\n",
       "\n",
       "    .dataframe thead th {\n",
       "        text-align: right;\n",
       "    }\n",
       "</style>\n",
       "<table border=\"1\" class=\"dataframe\">\n",
       "  <thead>\n",
       "    <tr style=\"text-align: right;\">\n",
       "      <th></th>\n",
       "      <th>sentence</th>\n",
       "      <th>label</th>\n",
       "    </tr>\n",
       "  </thead>\n",
       "  <tbody>\n",
       "    <tr>\n",
       "      <th>0</th>\n",
       "      <td>Identification of APC2, a homologue of the adenomatous polyposis coli tumour suppressor . The adenomatous polyposis coli ( APC ) tumour-suppressor protein controls the Wnt signalling pathway by forming a complex with glycogen synthase kinase 3beta ( GSK-3beta ) , axin / conductin and betacatenin . Complex formation induces the rapid degradation of betacatenin . In colon carcinoma cells , loss of APC leads to the accumulation of betacatenin in the nucleus , where it binds to and activates the Tcf-4 transcription factor ( reviewed in [ 1 ] [ 2 ] ) . Here , we report the identification and genomic structure of APC homologues . Mammalian APC2 , which closely resembles APC in overall domain structure , was functionally analyzed and shown to contain two SAMP domains , both of which are required for binding to conductin . Like APC , APC2 regulates the formation of active betacatenin-Tcf complexes , as demonstrated using transient transcriptional activation assays in APC - / - colon carcinoma cells . Human APC2 maps to chromosome 19p13 . 3 . APC and APC2 may therefore have comparable functions in development and cancer .</td>\n",
       "      <td>0</td>\n",
       "    </tr>\n",
       "    <tr>\n",
       "      <th>1</th>\n",
       "      <td>A common MSH2 mutation in English and North American HNPCC families: origin, phenotypic expression, and sex specific differences in colorectal cancer . The frequency , origin , and phenotypic expression of a germline MSH2 gene mutation previously identified in seven kindreds with hereditary non-polyposis cancer syndrome (HNPCC) was investigated . The mutation ( A-- &gt; T at nt943 + 3 ) disrupts the 3 splice site of exon 5 leading to the deletion of this exon from MSH2 mRNA and represents the only frequent MSH2 mutation so far reported . Although this mutation was initially detected in four of 33 colorectal cancer families analysed from eastern England , more extensive analysis has reduced the frequency to four of 52 ( 8 % ) English HNPCC kindreds analysed . In contrast , the MSH2 mutation was identified in 10 of 20 ( 50 % ) separately identified colorectal families from Newfoundland . To investigate the origin of this mutation in colorectal cancer families from England ( n = 4 ) , Newfoundland ( n = 10 ) , and the United States ( n = 3 ) , haplotype analysis using microsatellite markers linked to MSH2 was performed . Within the English and US families there was little evidence for a recent common origin of the MSH2 splice site mutation in most families . In contrast , a common haplotype was identified at the two flanking markers ( CA5 and D2S288 ) in eight of the Newfoundland families . These findings suggested a founder effect within Newfoundland similar to that reported by others for two MLH1 mutations in Finnish HNPCC families . We calculated age related risks of all , colorectal , endometrial , and ovarian cancers in nt943 + 3 A-- &gt; T MSH2 mutation carriers ( n = 76 ) for all patients and for men and women separately . For both sexes combined , the penetrances at age 60 years for all cancers  and for colorectal cancer were 0 . 86 and 0 . 57 , respectively . The risk of colorectal cancer was significantly higher ( p &lt; 0 . 01 ) in males than females ( 0 . 63 v 0 . 30 and 0 . 84 v 0 . 44 at ages 50 and 60 years , respectively ) . For females there was a high risk of endometrial cancer ( 0 . 5 at age 60 years ) and premenopausal ovarian cancer ( 0 . 2 at 50 years ) . These intersex differences in colorectal cancer risks have implications for screening programmes and for attempts to identify colorectal cancer susceptibility modifiers .</td>\n",
       "      <td>0</td>\n",
       "    </tr>\n",
       "    <tr>\n",
       "      <th>2</th>\n",
       "      <td>Age of onset in Huntington disease : sex specific influence of apolipoprotein E genotype and normal CAG repeat length . Age of onset ( AO ) of Huntington disease ( HD) is known to be correlated with the length of an expanded CAG repeat in the HD gene . Apolipoprotein E ( APOE ) genotype , in turn , is known to influence AO in Alzheimer disease , rendering the APOE gene a likely candidate to affect AO in other neurological diseases too . We therefore determined APOE genotype and normal CAG repeat length in the HD gene for 138 HD patients who were previously analysed with respect to CAG repeat length . Genotyping for APOE was performed blind to clinical information . In addition to highlighting the effect of the normal repeat length upon AO in maternally inherited HD and in male patients , we show that the APOE epsilon2epsilon3 genotype is associated with significantly earlier AO in males than in females . Such a sex difference in AO was not apparent for any of the other APOE genotypes . Our findings suggest that subtle differences in the course of the neurodegeneration  in HD  may allow interacting genes to exert gender specific effects upon AO.</td>\n",
       "      <td>1</td>\n",
       "    </tr>\n",
       "    <tr>\n",
       "      <th>3</th>\n",
       "      <td>Familial deficiency of the seventh component of complement associated with recurrent bacteremic infections due to Neisseria . The serum of a 29-year old woman with a recent episode of disseminated gonococcal infection and a history of meningococcal meningitis and arthritis as a child was found to lack serum hemolytic complement activity . The seventh component of complement ( C7 ) was not detected by functional or immunochemical assays , whereas other components were normal by hemoly