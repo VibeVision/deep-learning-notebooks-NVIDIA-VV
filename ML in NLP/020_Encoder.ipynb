{
 "cells": [
  {
   "cell_type": "markdown",
   "metadata": {},
   "source": [
    "<a href=\"https://www.nvidia.com/dli\"> <img src=\"images/DLI_Header.png\" alt=\"Header\" style=\"width: 400px;\"/> </a>"
   ]
  },
  {
   "cell_type": "markdown",
   "metadata": {},
   "source": [
    "# 2.0 Transformer Encoder\n",
    "\n",
    "In this notebook, you'll look deeper at the encoder mechanics, positional encoding, and how self-attention works.\n",
    "\n",
    "**[2.1 Overview](#2.1-Overview)<br>**\n",
    "**[2.2 Embedding](#2.2-Embedding)<br>**\n",
    "**[2.3 Positional Encoding](#2.3-Positional-Encoding)<br>**\n",
    "**[2.4 Self-Attention](#2.4-Self-Attention)<br>**\n",
    "&nbsp;&nbsp;&nbsp;&nbsp;[2.4.1 Self-Attention Matrix Calculation](#2.4.1-Self-Attention-Matrix-Calculation)<br>\n",
    "&nbsp;&nbsp;&nbsp;&nbsp;[2.4.2 Visualization of Attention](#2.4.2-Visualization-of-Attention)<br>\n",
    "**[2.5 Multi-Head Attention](#2.5-Multi-Head-Attention)<br>**"
   ]
  },
  {
   "cell_type": "markdown",
   "metadata": {},
   "source": [
    "# 2.1 Overview\n",
    "In the Transformer paper, both encoder and decoder are composed of $\\mathbf{N = 6}$ identical layers each, for a total of 12 layers. Each of the six encoder layers has two sub-layers: The first is a multi-head self-attention mechanism; the second is a simple, position-wise fully connected feed-forward network.  \n",
    "\n",
    "The encoder’s purpose is to encode a source sentence into hidden state vectors; the decoder uses the last representation of the state vectors to predict characters in the target language. \n",
    "\n",
    "Let's see what is happening inside an encode block. "
   ]
  },
  {
   "cell_type": "markdown",
   "metadata": {},
   "source": [
    "<center> <img src=\"images/encoder1.png\" width=\"500\"></center>\n",
    "\n",
    "<center> Figure 4. Encoder Block illustration. </center>"
   ]
  },
  {
   "cell_type": "markdown",
   "metadata": {},
   "source": [
    "The encoder code is provided below. A number of `TransformerEncoderLayers` (default 6) are added to `self.layers`, which will be called when we forward pass through the model.\n",
    "\n",
    "When `TransformerEncoder.forward()` is called, the input source tokens (`src_tokens`) are embedded (using `embed_tokens`) and then added to the positional encodings (see the description later). After dropout and some tensor manipulation, our embedded tokens `x` are passed through each of the six `TranformerEncoderLayers`, in the loop that starts `for layer in self.layers`."
   ]
  },
  {
   "cell_type": "code",
   "execution_count": 1,
   "metadata": {
    "scrolled": true
   },
   "outputs": [],
   "source": [
    "import numpy as np\n",
    "import matplotlib.pyplot as plt\n",
    "\n",
    "import torch\n",
    "import torch.nn as nn\n",
    "import torch.nn.functional as F\n",
    "import math, copy, time\n",
    "import seaborn as sns\n",
    "\n",
    "from encoder_demos.demo_fairseq.models.fairseq_model import BaseFairseqModel, FairseqDecoder, FairseqEncoder\n",
    "from encoder_demos.demo_fairseq.models.fairseq_incremental_decoder import FairseqIncrementalDecoder"
   ]
  },
  {
   "cell_type": "code",
   "execution_count": 2,
   "metadata": {},
   "outputs": [],
   "source": [
    "import torch.nn as nn\n",
    "class TransformerEncoder(nn.Module):\n",
    "    \"\"\"Transformer encoder.\"\"\"\n",
    "\n",
    "    def __init__(self, args, embed_tokens, left_pad=True):\n",
    "        super().__init__()\n",
    "        self.dropout = args.dropout\n",
    "        self.fuse_dropout_add = args.fuse_dropout_add\n",
    "        self.fuse_relu_dropout = args.fuse_relu_dropout\n",
    "\n",
    "        embed_dim = embed_tokens.embedding_dim\n",
    "        self.padding_idx = embed_tokens.padding_idx\n",
    "        self.max_source_positions = args.max_source_positions\n",
    "\n",
    "        self.embed_tokens = embed_tokens\n",
    "        self.embed_scale = math.sqrt(embed_dim)\n",
    "        self.embed_positions = PositionalEmbedding(\n",
    "            args.max_source_positions, embed_dim, self.padding_idx,\n",
    "            left_pad=left_pad,\n",
    "            learned=args.encoder_learned_pos,\n",
    "        ) if not args.no_token_positional_embeddings else None\n",
    "\n",
    "        self.layers = nn.ModuleList([])\n",
    "        self.layers.extend([\n",
    "            TransformerEncoderLayer(args)\n",
    "            for i in range(args.encoder_layers)\n",
    "        ])\n",
    "\n",
    "        self.normalize = args.encoder_normalize_before\n",
    "        if self.normalize:\n",
    "            self.layer_norm = FusedLayerNorm(embed_dim) if args.fuse_layer_norm else nn.LayerNorm(embed_dim)\n",
    "\n",
    "    def forward(self, src_tokens, src_lengths):\n",
    "        # embed tokens and positions\n",
    "        x = self.embed_scale * self.embed_tokens(src_tokens)\n",
    "        if self.embed_positions is not None:\n",
    "            x += self.embed_positions(src_tokens)\n",
    "        x = F.dropout(x, p=self.dropout, training=self.training)\n",
    "\n",
    "        # B x T x C -> T x B x C\n",
    "        # The tensor needs to copy transposed because\n",
    "        # fused dropout is not capable of handing strided data\n",
    "        if self.fuse_dropout_add :\n",
    "            x = x.transpose(0, 1).contiguous()\n",
    "        else :\n",
    "            x = x.transpose(0, 1)\n",
    "\n",
    "        # compute padding mask\n",
    "        encoder_padding_mask = src_tokens.eq(self.padding_idx)\n",
    "        if not encoder_padding_mask.any():\n",
    "            _encoder_padding_mask = None\n",
    "        else:\n",
    "            _encoder_padding_mask = encoder_padding_mask\n",
    "\n",
    "        # encoder layers\n",
    "        for layer in self.layers:\n",
    "            x = layer(x, _encoder_padding_mask)\n",
    "\n",
    "        if self.normalize:\n",
    "            x = self.layer_norm(x)\n",
    "\n",
    "        return x, encoder_padding_mask # x.shape == T x B x C, encoder_padding_mask.shape == B x T"
   ]
  },
  {
   "cell_type": "markdown",
   "metadata": {},
   "source": [
    "Each `TransformerEncoderLayer` is a copy of the TransformerEncoderLayer class defined [here](https://github.com/NVIDIA/DeepLearningExamples/blob/8c3514071275b2805b29372f6dabe515d431416f/PyTorch/Translation/Transformer/fairseq/models/transformer.py#L420). The full implementation includes optional layer normalization (removed here for the sake of simplicity).\n",
    "\n",
    "Looking at the `forward` method, the embedded tokens `x` are passed through the self attention mechanism (explained below). By default `self.fuse_dropout_add` is `True` and `self.fuse_relu_dropout` is `False`, so the results of the self attention pass through a linear layer `fc1`, then have dropout applied, then through the second linear layer `fc2`."
   ]
  },
  {
   "cell_type": "markdown",
   "metadata": {},
   "source": [
    "# 2.2 Embedding"
   ]
  },
  {
   "cell_type": "markdown",
   "metadata": {},
   "source": [
    "In order to understand how an encoder block works, we need the concept of *embedding*. We begin by turning each input word into a vector using an embedding algorithm. Word embedding is really all about improving the ability of networks to learn from text data. In simple terms, word embeddings are vector representations of a particular word. For more detailed information on embedding algorithms please see [Word2Vec](https://arxiv.org/pdf/1310.4546.pdf), [GloVe](https://nlp.stanford.edu/projects/glove/), and [fastText](https://fasttext.cc/).\n",
    "\n",
    "Note that the embedding only happens in the bottom-most encoder. In Figure 4, the two input words are represented vectors. These are the embedding vectors. The Transformer model uses $\\mathbf{d_{model} = 512}$, however this lab, and the NVIDIA implementation, use the “transformer-big” model $\\mathbf{d_{model} = 1024}$.\n"
   ]
  },
  {
   "cell_type": "markdown",
   "metadata": {},
   "source": [
    "Run the cell below to tokenize some input text. Tokenization converts a sentence into a list of numbers, ending in a 2, the representation for \"end of sentence (EOS)\". The tokenized representation will be combined with the positional encoder, to create the embedded vector, which is the input to the self-attention layer shown in Figure 4."
   ]
  },
  {
   "cell_type": "code",
   "execution_count": 3,
   "metadata": {},
   "outputs": [
    {
     "name": "stdout",
     "output_type": "stream",
     "text": [
      "| [en] dictionary: 33712 types\n",
      "| [de] dictionary: 33712 types\n",
      "\n",
      "Input text:        I am looking for a place to eat.\n",
      "Tokenized output:  [  40  105 1804   19   14  358   12 9637    5    2]\n"
     ]
    }
   ],
   "source": [
    "import encoder_demos.tokenize as tok\n",
    "\n",
    "input_text = \"I am looking for a place to eat.\"\n",
    "tokens = tok.demo(input_text)\n",
    "print(\"\\nInput text:        %s\\nTokenized output: \" % input_text, tokens[0].numpy())"
   ]
  },
  {
   "cell_type": "markdown",
   "metadata": {},
   "source": [
    "Now change the input text and see how the tokenized output vector is altered."
   ]
  },
  {
   "cell_type": "code",
   "execution_count": 4,
   "metadata": {},
   "outputs": [
    {
     "name": "stdout",
     "output_type": "stream",
     "text": [
      "| [en] dictionary: 33712 types\n",
      "| [de] dictionary: 33712 types\n",
      "| loading model(s) from /data/checkpoints/JoC_Transformer_FP32_PyT_20190304.pt\n",
      "| Sentences are being padded to multiples of: 1\n",
      "generated batches in  0.0002791881561279297 s\n",
      "En: I am looking for a place to eat.\n",
      "German: Ich bin auf der Suche nach einem Ort zu ße.\n",
      "\n",
      "H: -0.3850874900817871\n",
      "H is the hypothesis along with an average log-likelihood\n"
     ]
    }
   ],
   "source": [
    "# Translate an input sentence in English to German\n",
    "\n",
    "import encoder_demos.functional_translation as ft\n",
    "input_sentence = \"I am looking for a place to eat.\"\n",
    "\n",
    "e, g, h = ft.demo(input_sentence)\n",
    "print(\"En:\", e)\n",
    "print(\"German:\", g)\n",
    "print('')\n",
    "print(\"H:\", h)\n",
    "print('H is the hypothesis along with an average log-likelihood')"
   ]
  },
  {
   "cell_type": "markdown",
   "metadata": {},
   "source": [
    "Hypothesis scores are output as log-probabilities, thus are negative. We can calculate the probability of this hypothesis as exp(H)."
   ]
  },
  {
   "cell_type": "code",
   "execution_count": 5,
   "metadata": {},
   "outputs": [
    {
     "name": "stdout",
     "output_type": "stream",
     "text": [
      "Probability of H = 0.6804\n"
     ]
    }
   ],
   "source": [
    "print('Probability of H = {}'.format(round(np.exp(h),4)))"
   ]
  },
  {
   "cell_type": "markdown",
   "metadata": {},
   "source": [
    "# 2.3 Positional Encoding \n",
    "\n",
    "Language models need to make use of the sequential nature of words in a sentence. Since the Transformer model contains no recurrent or convolutional units, positional encodings (PEs) are used to account for the order of the words in the input sequence. The positional encodings have the same dimension, d<sub>model</sub>, as the embeddings, so that the two can be summed (see Figure 4). This allows the model to understand the position of each word in the input text.\n",
    "\n",
    "In the paper, the authors use sine and cosine functions of different frequencies for positional encoding:\n",
    "\n",
    "\n",
    "<img src=\"images/pe.png\" width=\"400\">\n",
    "where <i>pos</i> is the position and <i>i</i> is the dimension. Let's explain the formula above via an example:\n",
    "\n",
    "Let's assume that  d<sub>model</sub> = 4. This means that word 𝑤 at input sequence position <i>pos</i> ∈ [0, 𝐿−1] is represented with a 4-dimensional embedding 𝑒<sub>𝑤</sub> vector. Setting <i>i</i> ∈ [0, 255], then, for even indices  of 4-dimensional embedding vector, we will use sin(pos/10000<i><sup>2i/d<sub>model</sub></sup></i>) function, whereas for odd indices, we will use cos(pos/10000<i><sup>2i/d<sub>model</sub></sup></i>). \n",
    "\n",
    "Our first position in our input sentence is pos = 0, and first index of the embedding vector is <i>k</i>=0. Now, the first PE (positional encoding) for the first dimension, k = 0, of the embedding vector will be sin(0/10000<sup>0/4</sup>), and the second PE for the second dimension, k = 1, will be cos(0/10000<sup>0/4</sup>). For the third, k = 2, and fourth dimensions, k =3, the PEs will be sin(0/10000<sup>2/4</sup>) and cos(0/10000<sup>2/4</sup>), respectively. \n",
    "\n",
    "Now we can write down the positional encoding for the first word of the input sequence:\n",
    "\n",
    "PE (pos =0) = [sin(0/10000<sup>0/4</sup>), cos(0/10000<sup>0/4</sup>), sin(0/10000<sup>2/4</sup>), cos(0/10000<sup>2/4</sup>)].\n",
    "\n",
    "in simple form:\n",
    "\n",
    "PE (pos =0) = [sin(0/10000<sup>0</sup>), cos(0/10000<sup>0</sup>), sin(0/100), cos(0/100)] = [0, 1, 0, 1].\n",
    "\n",
    "The next step is to add this vector to the embedding vector, e<sub>𝑤</sub>, and obtain a new vector, e'<sub>𝑤</sub>:\n",
    "\n",
    "e'<sub>𝑤</sub> = PE (pos =0) + e<sub>𝑤</sub>.\n",
    "\n",
    "And we calculate e'<sub>𝑤</sub> for each word in the input sequence, at pos = 1, 2, … L - 1.\n"
   ]
  },
  {
   "cell_type": "markdown",
   "metadata": {},
   "source": [
    "The [PositionalEncoding](https://pytorch.org/tutorials/beginner/transformer_tutorial.html) module below lets us add the positional encoding to the embedding vector. In addition, dropout is also applied to the sums of the embeddings and the positional encodings, in both the Encoder and Decoder stacks. In the original paper, for the base model, a rate of $P_{drop}=0.1$. Note that this is just a hypothetical example using a matrix of zeros, where the embedding dim =20, to showcase the PE function."
   ]
  },
  {
   "cell_type": "code",
   "execution_count": 6,
   "metadata": {},
   "outputs": [],
   "source": [
    "from torch.autograd import Variable\n",
    "class PositionalEncoding(nn.Module):\n",
    "    \"Implement the PE function.\"\n",
    "    def __init__(self, d_model, dropout, max_len=500):\n",
    "        super(PositionalEncoding, self).__init__()\n",
    "        self.dropout = nn.Dropout(p=dropout)\n",
    "        print(\"dropout:\", dropout)\n",
    "        # Compute the positional encodings once in log space.\n",
    "        pe = torch.zeros(max_len, d_model)\n",
    "        \n",
    "        print(\"d_model:\", d_model)\n",
    "        position = torch.arange(0.0, max_len).unsqueeze(1)\n",
    "        div_term = torch.exp(torch.arange(0.0, d_model, 2) *\n",
    "                             -(math.log(10000.0) / d_model))\n",
    "        pe[:, 0::2] = torch.sin(position * div_term)\n",
    "        pe[:, 1::2] = torch.cos(position * div_term)\n",
    "        pe = pe.unsqueeze(0)\n",
    "        print(\"pe:\", pe[:,0:2])\n",
    "    \n",
    "        self.register_buffer('pe', pe)\n",
    "        \n",
    "    def forward(self, x):\n",
    "        \n",
    "        x = x + Variable(self.pe[:, :x.size(1)], \n",
    "                         requires_grad=False)\n",
    "        return self.dropout(x)\n"
   ]
  },
  {
   "cell_type": "code",
   "execution_count": 7,
   "metadata": {},
   "outputs": [
    {
     "name": "stdout",
     "output_type": "stream",
     "text": [
      "dropout: 0\n",
      "d_model: 20\n",
      "pe: tensor([[[0.0000e+00, 1.0000e+00, 0.0000e+00, 1.0000e+00, 0.0000e+00, 1.0000e+00, 0.0000e+00, 1.0000e+00, 0.0000e+00, 1.0000e+00, 0.0000e+00, 1.0000e+00, 0.0000e+00, 1.0000e+00, 0.0000e+00, 1.0000e+00, 0.0000e+00, 1.0000e+00, 0.0000e+00, 1.0000e+00],\n",
      "         [8.4147e-01, 5.4030e-01, 3.8767e-01, 9.2180e-01, 1.5783e-01, 9.8747e-01, 6.3054e-02, 9.9801e-01, 2.5116e-02, 9.9968e-01, 9.9998e-03, 9.9995e-01, 3.9811e-03, 9.9999e-01, 1.5849e-03, 1.0000e+00, 6.3096e-04, 1.0000e+00, 2.5119e-04, 1.0000e+00]]])\n"
     ]
    },
    {
     "data": {
      "image/png": "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