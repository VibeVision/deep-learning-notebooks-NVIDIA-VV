{
 "cells": [
  {
   "cell_type": "markdown",
   "metadata": {},
   "source": [
    "<a href=\"https://www.nvidia.com/dli\"> <img src=\"images/DLI_Header.png\" alt=\"Header\" style=\"width: 400px;\"/> </a>"
   ]
  },
  {
   "cell_type": "markdown",
   "metadata": {},
   "source": [
    "# 2.0 Transformer Encoder\n",
    "\n",
    "In this notebook, you'll look deeper at the encoder mechanics, positional encoding, and how self-attention works.\n",
    "\n",
    "**[2.1 Overview](#2.1-Overview)<br>**\n",
    "**[2.2 Embedding](#2.2-Embedding)<br>**\n",
    "**[2.3 Positional Encoding](#2.3-Positional-Encoding)<br>**\n",
    "**[2.4 Self-Attention](#2.4-Self-Attention)<br>**\n",
    "&nbsp;&nbsp;&nbsp;&nbsp;[2.4.1 Self-Attention Matrix Calculation](#2.4.1-Self-Attention-Matrix-Calculation)<br>\n",
    "&nbsp;&nbsp;&nbsp;&nbsp;[2.4.2 Visualization of Attention](#2.4.2-Visualization-of-Attention)<br>\n",
    "**[2.5 Multi-Head Attention](#2.5-Multi-Head-Attention)<br>**"
   ]
  },
  {
   "cell_type": "markdown",
   "metadata": {},
   "source": [
    "# 2.1 Overview\n",
    "In the Transformer paper, both encoder and decoder are composed of $\\mathbf{N = 6}$ identical layers each, for a total of 12 layers. Each of the six encoder layers has two sub-layers: The first is a multi-head self-attention mechanism; the second is a simple, position-wise fully connected feed-forward network.  \n",
    "\n",
    "The encoder’s purpose is to encode a source sentence into hidden state vectors; the decoder uses the last representation of the state vectors to predict characters in the target language. \n",
    "\n",
    "Let's see what is happening inside an encode block. "
   ]
  },
  {
   "cell_type": "markdown",
   "metadata": {},
   "source": [
    "<center> <img src=\"images/encoder1.png\" width=\"500\"></center>\n",
    "\n",
    "<center> Figure 4. Encoder Block illustration. </center>"
   ]
  },
  {
   "cell_type": "markdown",
   "metadata": {},
   "source": [
    "The encoder code is provided below. A number of `TransformerEncoderLayers` (default 6) are added to `self.layers`, which will be called when we forward pass through the model.\n",
    "\n",
    "When `TransformerEncoder.forward()` is called, the input source tokens (`src_tokens`) are embedded (using `embed_tokens`) and then added to the positional encodings (see the description later). After dropout and some tensor manipulation, our embedded tokens `x` are passed through each of the six `TranformerEncoderLayers`, in the loop that starts `for layer in self.layers`."
   ]
  },
  {
   "cell_type": "code",
   "execution_count": 1,
   "metadata": {
    "scrolled": true
   },
   "outputs": [],
   "source": [
    "import numpy as np\n",
    "import matplotlib.pyplot as plt\n",
    "\n",
    "import torch\n",
    "import torch.nn as nn\n",
    "import torch.nn.functional as F\n",
    "import math, copy, time\n",
    "import seaborn as sns\n",
    "\n",
    "from encoder_demos.demo_fairseq.models.fairseq_model import BaseFairseqModel, FairseqDecoder, FairseqEncoder\n",
    "from encoder_demos.demo_fairseq.models.fairseq_incremental_decoder import FairseqIncrementalDecoder"
   ]
  },
  {
   "cell_type": "code",
   "execution_count": 2,
   "metadata": {},
   "outputs": [],
   "source": [
    "import torch.nn as nn\n",
    "class TransformerEncoder(nn.Module):\n",
    "    \"\"\"Transformer encoder.\"\"\"\n",
    "\n",
    "    def __init__(self, args, embed_tokens, left_pad=True):\n",
    "        super().__init__()\n",
    "        self.dropout = args.dropout\n",
    "        self.fuse_dropout_add = args.fuse_dropout_add\n",
    "        self.fuse_relu_dropout = args.fuse_relu_dropout\n",
    "\n",
    "        embed_dim = embed_tokens.embedding_dim\n",
    "        self.padding_idx = embed_tokens.padding_idx\n",
    "        self.max_source_positions = args.max_source_positions\n",
    "\n",
    "        self.embed_tokens = embed_tokens\n",
    "        self.embed_scale = math.sqrt(embed_dim)\n",
    "        self.embed_positions = PositionalEmbedding(\n",
    "            args.max_source_positions, embed_dim, self.padding_idx,\n",
    "            left_pad=left_pad,\n",
    "            learned=args.encoder_learned_pos,\n",
    "        ) if not args.no_token_positional_embeddings else None\n",
    "\n",
    "        self.layers = nn.ModuleList([])\n",
    "        self.layers.extend([\n",
    "            TransformerEncoderLayer(args)\n",
    "            for i in range(args.encoder_layers)\n",
    "        ])\n",
    "\n",
    "        self.normalize = args.encoder_normalize_before\n",
    "        if self.normalize:\n",
    "            self.layer_norm = FusedLayerNorm(embed_dim) if args.fuse_layer_norm else nn.LayerNorm(embed_dim)\n",
    "\n",
    "    def forward(self, src_tokens, src_lengths):\n",
    "        # embed tokens and positions\n",
    "        x = self.embed_scale * self.embed_tokens(src_tokens)\n",
    "        if self.embed_positions is not None:\n",
    "            x += self.embed_positions(src_tokens)\n",
    "        x = F.dropout(x, p=self.dropout, training=self.training)\n",
    "\n",
    "        # B x T x C -> T x B x C\n",
    "        # The tensor needs to copy transposed because\n",
    "        # fused dropout is not capable of handing strided data\n",
    "        if self.fuse_dropout_add :\n",
    "            x = x.transpose(0, 1).contiguous()\n",
    "        else :\n",
    "            x = x.transpose(0, 1)\n",
    "\n",
    "        # compute padding mask\n",
    "        encoder_padding_mask = src_tokens.eq(self.padding_idx)\n",
    "        if not encoder_padding_mask.any():\n",
    "            _encoder_padding_mask = None\n",
    "        else:\n",
    "            _encoder_padding_mask = encoder_padding_mask\n",
    "\n",
    "        # encoder layers\n",
    "        for layer in self.layers:\n",
    "            x = layer(x, _encoder_padding_mask)\n",
    "\n",
    "        if self.normalize:\n",
    "            x = self.layer_norm(x)\n",
    "\n",
    "        return x, encoder_padding_mask # x.shape == T x B x C, encoder_padding_mask.shape == B x T"
   ]
  },
  {
   "cell_type": "markdown",
   "metadata": {},
   "source": [
    "Each `TransformerEncoderLayer` is a copy of the TransformerEncoderLayer class defined [here](https://github.com/NVIDIA/DeepLearningExamples/blob/8c3514071275b2805b29372f6dabe515d431416f/PyTorch/Translation/Transformer/fairseq/models/transformer.py#L420). The full implementation includes optional layer normalization (removed here for the sake of simplicity).\n",
    "\n",
    "Looking at the `forward` method, the embedded tokens `x` are passed through the self attention mechanism (explained below). By default `self.fuse_dropout_add` is `True` and `self.fuse_relu_dropout` is `False`, so the results of the self attention pass through a linear layer `fc1`, then have dropout applied, then through the second linear layer `fc2`."
   ]
  },
  {
   "cell_type": "markdown",
   "metadata": {},
   "source": [
    "# 2.2 Embedding"
   ]
  },
  {
   "cell_type": "markdown",
   "metadata": {},
   "source": [
    "In order to understand how an encoder block works, we need the concept of *embedding*. We begin by turning each input word into a vector using an embedding algorithm. Word embedding is really all about improving the ability of networks to learn from text data. In simple terms, word embeddings are vector representations of a particular word. For more detailed information on embedding algorithms please see [Word2Vec](https://arxiv.org/pdf/1310.4546.pdf), [GloVe](https://nlp.stanford.edu/projects/glove/), and [fastText](https://fasttext.cc/).\n",
    "\n",
    "Note that the embedding only happens in the bottom-most encoder. In Figure 4, the two input words are represented vectors. These are the embedding vectors. The Transformer model uses $\\mathbf{d_{model} = 512}$, however this lab, and the NVIDIA implementation, use the “transformer-big” model $\\mathbf{d_{model} = 1024}$.\n"
   ]
  },
  {
   "cell_type": "markdown",
   "metadata": {},
   "source": [
    "Run the cell below to tokenize some input text. Tokenization converts a sentence into a list of numbers, ending in a 2, the representation for \"end of sentence (EOS)\". The tokenized representation will be combined with the positional encoder, to create the embedded vector, which is the input to the self-attention layer shown in Figure 4."
   ]
  },
  {
   "cell_type": "code",
   "execution_count": 3,
   "metadata": {},
   "outputs": [
    {
     "name": "stdout",
     "output_type": "stream",
     "text": [
      "| [en] dictionary: 33712 types\n",
      "| [de] dictionary: 33712 types\n",
      "\n",
      "Input text:        I am looking for a place to eat.\n",
      "Tokenized output:  [  40  105 1804   19   14  358   12 9637    5    2]\n"
     ]
    }
   ],
   "source": [
    "import encoder_demos.tokenize as tok\n",
    "\n",
    "input_text = \"I am looking for a place to eat.\"\n",
    "tokens = tok.demo(input_text)\n",
    "print(\"\\nInput text:        %s\\nTokenized output: \" % input_text, tokens[0].numpy())"
   ]
  },
  {
   "cell_type": "markdown",
   "metadata": {},
   "source": [
    "Now change the input text and see how the tokenized output vector is altered."
   ]
  },
  {
   "cell_type": "code",
   "execution_count": 4,
   "metadata": {},
   "outputs": [
    {
     "name": "stdout",
     "output_type": "stream",
     "text": [
      "| [en] dictionary: 33712 types\n",
      "| [de] dictionary: 33712 types\n",
      "| loading model(s) from /data/checkpoints/JoC_Transformer_FP32_PyT_20190304.pt\n",
      "| Sentences are being padded to multiples of: 1\n",
      "generated batches in  0.0002791881561279297 s\n",
      "En: I am looking for a place to eat.\n",
      "German: Ich bin auf der Suche nach einem Ort zu ße.\n",
      "\n",
      "H: -0.3850874900817871\n",
      "H is the hypothesis along with an average log-likelihood\n"
     ]
    }
   ],
   "source": [
    "# Translate an input sentence in English to German\n",
    "\n",
    "import encoder_demos.functional_translation as ft\n",
    "input_sentence = \"I am looking for a place to eat.\"\n",
    "\n",
    "e, g, h = ft.demo(input_sentence)\n",
    "print(\"En:\", e)\n",
    "print(\"German:\", g)\n",
    "print('')\n",
    "print(\"H:\", h)\n",
    "print('H is the hypothesis along with an average log-likelihood')"
   ]
  },
  {
   "cell_type": "markdown",
   "metadata": {},
   "source": [
    "Hypothesis scores are output as log-probabilities, thus are negative. We can calculate the probability of this hypothesis as exp(H)."
   ]
  },
  {
   "cell_type": "code",
   "execution_count": 5,
   "metadata": {},
   "outputs": [
    {
     "name": "stdout",
     "output_type": "stream",
     "text": [
      "Probability of H = 0.6804\n"
     ]
    }
   ],
   "source": [
    "print('Probability of H = {}'.format(round(np.exp(h),4)))"
   ]
  },
  {
   "cell_type": "markdown",
   "metadata": {},
   "source": [
    "# 2.3 Positional Encoding \n",
    "\n",
    "Language models need to make use of the sequential nature of words in a sentence. Since the Transformer model contains no recurrent or convolutional units, positional encodings (PEs) are used to account for the order of the words in the input sequence. The positional encodings have the same dimension, d<sub>model</sub>, as the embeddings, so that the two can be summed (see Figure 4). This allows the model to understand the position of each word in the input text.\n",
    "\n",
    "In the paper, the authors use sine and cosine functions of different frequencies for positional encoding:\n",
    "\n",
    "\n",
    "<img src=\"images/pe.png\" width=\"400\">\n",
    "where <i>pos</i> is the position and <i>i</i> is the dimension. Let's explain the formula above via an example:\n",
    "\n",
    "Let's assume that  d<sub>model</sub> = 4. This means that word 𝑤 at input sequence position <i>pos</i> ∈ [0, 𝐿−1] is represented with a 4-dimensional embedding 𝑒<sub>𝑤</sub> vector. Setting <i>i</i> ∈ [0, 255], then, for even indices  of 4-dimensional embedding vector, we will use sin(pos/10000<i><sup>2i/d<sub>model</sub></sup></i>) function, whereas for odd indices, we will use cos(pos/10000<i><sup>2i/d<sub>model</sub></sup></i>). \n",
    "\n",
    "Our first position in our input sentence is pos = 0, and first index of the embedding vector is <i>k</i>=0. Now, the first PE (positional encoding) for the first dimension, k = 0, of the embedding vector will be sin(0/10000<sup>0/4</sup>), and the second PE for the second dimension, k = 1, will be cos(0/10000<sup>0/4</sup>). For the third, k = 2, and fourth dimensions, k =3, the PEs will be sin(0/10000<sup>2/4</sup>) and cos(0/10000<sup>2/4</sup>), respectively. \n",
    "\n",
    "Now we can write down the positional encoding for the first word of the input sequence:\n",
    "\n",
    "PE (pos =0) = [sin(0/10000<sup>0/4</sup>), cos(0/10000<sup>0/4</sup>), sin(0/10000<sup>2/4</sup>), cos(0/10000<sup>2/4</sup>)].\n",
    "\n",
    "in simple form:\n",
    "\n",
    "PE (pos =0) = [sin(0/10000<sup>0</sup>), cos(0/10000<sup>0</sup>), sin(0/100), cos(0/100)] = [0, 1, 0, 1].\n",
    "\n",
    "The next step is to add this vector to the embedding vector, e<sub>𝑤</sub>, and obtain a new vector, e'<sub>𝑤</sub>:\n",
    "\n",
    "e'<sub>𝑤</sub> = PE (pos =0) + e<sub>𝑤</sub>.\n",
    "\n",
    "And we calculate e'<sub>𝑤</sub> for each word in the input sequence, at pos = 1, 2, … L - 1.\n"
   ]
  },
  {
   "cell_type": "markdown",
   "metadata": {},
   "source": [
    "The [PositionalEncoding](https://pytorch.org/tutorials/beginner/transformer_tutorial.html) module below lets us add the positional encoding to the embedding vector. In addition, dropout is also applied to the sums of the embeddings and the positional encodings, in both the Encoder and Decoder stacks. In the original paper, for the base model, a rate of $P_{drop}=0.1$. Note that this is just a hypothetical example using a matrix of zeros, where the embedding dim =20, to showcase the PE function."
   ]
  },
  {
   "cell_type": "code",
   "execution_count": 6,
   "metadata": {},
   "outputs": [],
   "source": [
    "from torch.autograd import Variable\n",
    "class PositionalEncoding(nn.Module):\n",
    "    \"Implement the PE function.\"\n",
    "    def __init__(self, d_model, dropout, max_len=500):\n",
    "        super(PositionalEncoding, self).__init__()\n",
    "        self.dropout = nn.Dropout(p=dropout)\n",
    "        print(\"dropout:\", dropout)\n",
    "        # Compute the positional encodings once in log space.\n",
    "        pe = torch.zeros(max_len, d_model)\n",
    "        \n",
    "        print(\"d_model:\", d_model)\n",
    "        position = torch.arange(0.0, max_len).unsqueeze(1)\n",
    "        div_term = torch.exp(torch.arange(0.0, d_model, 2) *\n",
    "                             -(math.log(10000.0) / d_model))\n",
    "        pe[:, 0::2] = torch.sin(position * div_term)\n",
    "        pe[:, 1::2] = torch.cos(position * div_term)\n",
    "        pe = pe.unsqueeze(0)\n",
    "        print(\"pe:\", pe[:,0:2])\n",
    "    \n",
    "        self.register_buffer('pe', pe)\n",
    "        \n",
    "    def forward(self, x):\n",
    "        \n",
    "        x = x + Variable(self.pe[:, :x.size(1)], \n",
    "                         requires_grad=False)\n",
    "        return self.dropout(x)\n"
   ]
  },
  {
   "cell_type": "code",
   "execution_count": 7,
   "metadata": {},
   "outputs": [
    {
     "name": "stdout",
     "output_type": "stream",
     "text": [
      "dropout: 0\n",
      "d_model: 20\n",
      "pe: tensor([[[0.0000e+00, 1.0000e+00, 0.0000e+00, 1.0000e+00, 0.0000e+00, 1.0000e+00, 0.0000e+00, 1.0000e+00, 0.0000e+00, 1.0000e+00, 0.0000e+00, 1.0000e+00, 0.0000e+00, 1.0000e+00, 0.0000e+00, 1.0000e+00, 0.0000e+00, 1.0000e+00, 0.0000e+00, 1.0000e+00],\n",
      "         [8.4147e-01, 5.4030e-01, 3.8767e-01, 9.2180e-01, 1.5783e-01, 9.8747e-01, 6.3054e-02, 9.9801e-01, 2.5116e-02, 9.9968e-01, 9.9998e-03, 9.9995e-01, 3.9811e-03, 9.9999e-01, 1.5849e-03, 1.0000e+00, 6.3096e-04, 1.0000e+00, 2.5119e-04, 1.0000e+00]]])\n"
     ]
    },
    {
     "data": {
      "image/png": "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