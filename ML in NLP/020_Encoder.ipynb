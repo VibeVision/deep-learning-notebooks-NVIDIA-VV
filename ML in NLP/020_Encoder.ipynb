{
 "cells": [
  {
   "cell_type": "markdown",
   "metadata": {},
   "source": [
    "<a href=\"https://www.nvidia.com/dli\"> <img src=\"images/DLI_Header.png\" alt=\"Header\" style=\"width: 400px;\"/> </a>"
   ]
  },
  {
   "cell_type": "markdown",
   "metadata": {},
   "source": [
    "# 2.0 Transformer Encoder\n",
    "\n",
    "In this notebook, you'll look deeper at the encoder mechanics, positional encoding, and how self-attention works.\n",
    "\n",
    "**[2.1 Overview](#2.1-Overview)<br>**\n",
    "**[2.2 Embedding](#2.2-Embedding)<br>**\n",
    "**[2.3 Positional Encoding](#2.3-Positional-Encoding)<br>**\n",
    "**[2.4 Self-Attention](#2.4-Self-Attention)<br>**\n",
    "&nbsp;&nbsp;&nbsp;&nbsp;[2.4.1 Self-Attention Matrix Calculation](#2.4.1-Self-Attention-Matrix-Calculation)<br>\n",
    "&nbsp;&nbsp;&nbsp;&nbsp;[2.4.2 Visualization of Attention](#2.4.2-Visualization-of-Attention)<br>\n",
    "**[2.5 Multi-Head Attention](#2.5-Multi-Head-Attention)<br>**"
   ]
  },
  {
   "cell_type": "markdown",
   "metadata": {},
   "source": [
    "# 2.1 Overview\n",
    "In the Transformer paper, both encoder and decoder are composed of $\\mathbf{N = 6}$ identical layers each, for a total of 12 layers. Each of the six encoder layers has two sub-layers: The first is a multi-head self-attention mechanism; the second is a simple, position-wise fully connected feed-forward network.  \n",
    "\n",
    "The encoder’s purpose is to encode a source sentence into hidden state vectors; the decoder uses the last representation of the state vectors to predict characters in the target language. \n",
    "\n",
    "Let's see what is happening inside an encode block. "
   ]
  },
  {
   "cell_type": "markdown",
   "metadata": {},
   "source": [
    "<center> <img src=\"images/encoder1.png\" width=\"500\"></center>\n",
    "\n",
    "<center> Figure 4. Encoder Block illustration. </center>"
   ]
  },
  {
   "cell_type": "markdown",
   "metadata": {},
   "source": [
    "The encoder code is provided below. A number of `TransformerEncoderLayers` (default 6) are added to `self.layers`, which will be called when we forward pass through the model.\n",
    "\n",
    "When `TransformerEncoder.forward()` is called, the input source tokens (`src_tokens`) are embedded (using `embed_tokens`) and then added to the positional encodings (see the description later). After dropout and some tensor manipulation, our embedded tokens `x` are passed through each of the six `TranformerEncoderLayers`, in the loop that starts `for layer in self.layers`."
   ]
  },
  {
   "cell_type": "code",
   "execution_count": 1,
   "metadata": {
    "scrolled": true
   },
   "outputs": [],
   "source": [
    "import numpy as np\n",
    "import matplotlib.pyplot as plt\n",
    "\n",
    "import torch\n",
    "import torch.nn as nn\n",
    "import torch.nn.functional as F\n",
    "import math, copy, time\n",
    "import seaborn as sns\n",
    "\n",
    "from encoder_demos.demo_fairseq.models.fairseq_model import BaseFairseqModel, FairseqDecoder, FairseqEncoder\n",
    "from encoder_demos.demo_fairseq.models.fairseq_incremental_decoder import FairseqIncrementalDecoder"
   ]
  },
  {
   "cell_type": "code",
   "execution_count": 2,
   "metadata": {},
   "outputs": [],
   "source": [
    "import torch.nn as nn\n",
    "class TransformerEncoder(nn.Module):\n",
    "    \"\"\"Transformer encoder.\"\"\"\n",
    "\n",
    "    def __init__(self, args, embed_tokens, left_pad=True):\n",
    "        super().__init__()\n",
    "        self.dropout = args.dropout\n",
    "        self.fuse_dropout_add = args.fuse_dropout_add\n",
    "        self.fuse_relu_dropout = args.fuse_relu_dropout\n",
    "\n",
    "        embed_dim = embed_tokens.embedding_dim\n",
    "        self.padding_idx = embed_tokens.padding_idx\n",
    "        self.max_source_positions = args.max_source_positions\n",
    "\n",
    "        self.embed_tokens = embed_tokens\n",
    "        self.embed_scale = math.sqrt(embed_dim)\n",
    "        self.embed_positions = PositionalEmbedding(\n",
    "            args.max_source_positions, embed_dim, self.padding_idx,\n",
    "            left_pad=left_pad,\n",
    "            learned=args.encoder_learned_pos,\n",
    "        ) if not args.no_token_positional_embeddings else None\n",
    "\n",
    "        self.layers = nn.ModuleList([])\n",
    "        self.layers.extend([\n",
    "            TransformerEncoderLayer(args)\n",
    "            for i in range(args.encoder_layers)\n",
    "        ])\n",
    "\n",
    "        self.normalize = args.encoder_normalize_before\n",
    "        if self.normalize:\n",
    "            self.layer_norm = FusedLayerNorm(embed_dim) if args.fuse_layer_norm else nn.LayerNorm(embed_dim)\n",
    "\n",
    "    def forward(self, src_tokens, src_lengths):\n",
    "        # embed tokens and positions\n",
    "        x = self.embed_scale * self.embed_tokens(src_tokens)\n",
    "        if self.embed_positions is not None:\n",
    "            x += self.embed_positions(src_tokens)\n",
    "        x = F.dropout(x, p=self.dropout, training=self.training)\n",
    "\n",
    "        # B x T x C -> T x B x C\n",
    "        # The tensor needs to copy transposed because\n",
    "        # fused dropout is not capable of handing strided data\n",
    "        if self.fuse_dropout_add :\n",
    "            x = x.transpose(0, 1).contiguous()\n",
    "        else :\n",
    "            x = x.transpose(0, 1)\n",
    "\n",
    "        # compute padding mask\n",
    "        encoder_padding_mask = src_tokens.eq(self.padding_idx)\n",
    "        if not encoder_padding_mask.any():\n",
    "            _encoder_padding_mask = None\n",
    "        else:\n",
    "            _encoder_padding_mask = encoder_padding_mask\n",
    "\n",
    "        # encoder layers\n",
    "        for layer in self.layers:\n",
    "            x = layer(x, _encoder_padding_mask)\n",
    "\n",
    "        if self.normalize:\n",
    "            x = self.layer_norm(x)\n",
    "\n",
    "        return x, encoder_padding_mask # x.shape == T x B x C, encoder_padding_mask.shape == B x T"
   ]
  },
  {
   "cell_type": "markdown",
   "metadata": {},
   "source": [
    "Each `TransformerEncoderLayer` is a copy of the TransformerEncoderLayer class defined [here](https://github.com/NVIDIA/DeepLearningExamples/blob/8c3514071275b2805b29372f6dabe515d431416f/PyTorch/Translation/Transformer/fairseq/models/transformer.py#L420). The full implementation includes optional layer normalization (removed here for the sake of simplicity).\n",
    "\n",
    "Looking at the `forward` method, the embedded tokens `x` are passed through the self attention mechanism (explained below). By default `self.fuse_dropout_add` is `True` and `self.fuse_relu_dropout` is `False`, so the results of the self attention pass through a linear layer `fc1`, then have dropout applied, then through the second linear layer `fc2`."
   ]
  },
  {
   "cell_type": "markdown",
   "metadata": {},
   "source": [
    "# 2.2 Embedding"
   ]
  },
  {
   "cell_type": "markdown",
   "metadata": {},
   "source": [
    "In order to understand how an encoder block works, we need the concept of *embedding*. We begin by turning each input word into a vector using an embedding algorithm. Word embedding is really all about improving the ability of networks to learn from text data. In simple terms, word embeddings are vector representations of a particular word. For more detailed information on embedding algorithms please see [Word2Vec](https://arxiv.org/pdf/1310.4546.pdf), [GloVe](https://nlp.stanford.edu/projects/glove/), and [fastText](https://fasttext.cc/).\n",
    "\n",
    "Note that the embedding only happens in the bottom-most encoder. In Figure 4, the two input words are represented vectors. These are the embedding vectors. The Transformer model uses $\\mathbf{d_{model} = 512}$, however this lab, and the NVIDIA implementation, use the “transformer-big” model $\\mathbf{d_{model} = 1024}$.\n"
   ]
  },
  {
   "cell_type": "markdown",
   "metadata": {},
   "source": [
    "Run the cell below to tokenize some input text. Tokenization converts a sentence into a list of numbers, ending in a 2, the representation for \"end of sentence (EOS)\". The tokenized representation will be combined with the positional encoder, to create the embedded vector, which is the input to the self-attention layer shown in Figure 4."
   ]
  },
  {
   "cell_type": "code",
   "execution_count": 3,
   "metadata": {},
   "outputs": [
    {
     "name": "stdout",
     "output_type": "stream",
     "text": [
      "| [en] dictionary: 33712 types\n",
      "| [de] dictionary: 33712 types\n",
      "\n",
      "Input text:        I am looking for a place to eat.\n",
      "Tokenized output:  [  40  105 1804   19   14  358   12 9637    5    2]\n"
     ]
    }
   ],
   "source": [
    "import encoder_demos.tokenize as tok\n",
    "\n",
    "input_text = \"I am looking for a place to eat.\"\n",
    "tokens = tok.demo(input_text)\n",
    "print(\"\\nInput text:        %s\\nTokenized output: \" % input_text, tokens[0].numpy())"
   ]
  },
  {
   "cell_type": "markdown",
   "metadata": {},
   "source": [
    "Now change the input text and see how the tokenized output vector is altered."
   ]
  },
  {
   "cell_type": "code",
   "execution_count": 4,
   "metadata": {},
   "outputs": [
    {
     "name": "stdout",
     "output_type": "stream",
     "text": [
      "| [en] dictionary: 33712 types\n",
      "| [de] dictionary: 33712 types\n",
      "| loading model(s) from /data/checkpoints/JoC_Transformer_FP32_PyT_20190304.pt\n",
      "| Sentences are being padded to multiples of: 1\n",
      "generated batches in  0.0002791881561279297 s\n",
      "En: I am looking for a place to eat.\n",
      "German: Ich bin auf der Suche nach einem Ort zu ße.\n",
      "\n",
      "H: -0.3850874900817871\n",
      "H is the hypothesis along with an average log-likelihood\n"
     ]
    }
   ],
   "source": [
    "# Translate an input sentence in English to German\n",
    "\n",
    "import encoder_demos.functional_translation as ft\n",
    "input_sentence = \"I am looking for a place to eat.\"\n",
    "\n",
    "e, g, h = ft.demo(input_sentence)\n",
    "print(\"En:\", e)\n",
    "print(\"German:\", g)\n",
    "print('')\n",
    "print(\"H:\", h)\n",
    "print('H is the hypothesis along with an average log-likelihood')"
   ]
  },
  {
   "cell_type": "markdown",
   "metadata": {},
   "source": [
    "Hypothesis scores are output as log-probabilities, thus are negative. We can calculate the probability of this hypothesis as exp(H)."
   ]
  },
  {
   "cell_type": "code",
   "execution_count": 5,
   "metadata": {},
   "outputs": [
    {
     "name": "stdout",
     "output_type": "stream",
     "text": [
      "Probability of H = 0.6804\n"
     ]
    }
   ],
   "source": [
    "print('Probability of H = {}'.format(round(np.exp(h),4)))"
   ]
  },
  {
   "cell_type": "markdown",
   "metadata": {},
   "source": [
    "# 2.3 Positional Encoding \n",
    "\n",
    "Language models need to make use of the sequential nature of words in a sentence. Since the Transformer model contains no recurrent or convolutional units, positional encodings (PEs) are used to account for the order of the words in the input sequence. The positional encodings have the same dimension, d<sub>model</sub>, as the embeddings, so that the two can be summed (see Figure 4). This allows the model to understand the position of each word in the input text.\n",
    "\n",
    "In the paper, the authors use sine and cosine functions of different frequencies for positional encoding:\n",
    "\n",
    "\n",
    "<img src=\"images/pe.png\" width=\"400\">\n",
    "where <i>pos</i> is the position and <i>i</i> is the dimension. Let's explain the formula above via an example:\n",
    "\n",
    "Let's assume that  d<sub>model</sub> = 4. This means that word 𝑤 at input sequence position <i>pos</i> ∈ [0, 𝐿−1] is represented with a 4-dimensional embedding 𝑒<sub>𝑤</sub> vector. Setting <i>i</i> ∈ [0, 255], then, for even indices  of 4-dimensional embedding vector, we will use sin(pos/10000<i><sup>2i/d<sub>model</sub></sup></i>) function, whereas for odd indices, we will use cos(pos/10000<i><sup>2i/d<sub>model</sub></sup></i>). \n",
    "\n",
    "Our first position in our input sentence is pos = 0, and first index of the embedding vector is <i>k</i>=0. Now, the first PE (positional encoding) for the first dimension, k = 0, of the embedding vector will be sin(0/10000<sup>0/4</sup>), and the second PE for the second dimension, k = 1, will be cos(0/10000<sup>0/4</sup>). For the third, k = 2, and fourth dimensions, k =3, the PEs will be sin(0/10000<sup>2/4</sup>) and cos(0/10000<sup>2/4</sup>), respectively. \n",
    "\n",
    "Now we can write down the positional encoding for the first word of the input sequence:\n",
    "\n",
    "PE (pos =0) = [sin(0/10000<sup>0/4</sup>), cos(0/10000<sup>0/4</sup>), sin(0/10000<sup>2/4</sup>), cos(0/10000<sup>2/4</sup>)].\n",
    "\n",
    "in simple form:\n",
    "\n",
    "PE (pos =0) = [sin(0/10000<sup>0</sup>), cos(0/10000<sup>0</sup>), sin(0/100), cos(0/100)] = [0, 1, 0, 1].\n",
    "\n",
    "The next step is to add this vector to the embedding vector, e<sub>𝑤</sub>, and obtain a new vector, e'<sub>𝑤</sub>:\n",
    "\n",
    "e'<sub>𝑤</sub> = PE (pos =0) + e<sub>𝑤</sub>.\n",
    "\n",
    "And we calculate e'<sub>𝑤</sub> for each word in the input sequence, at pos = 1, 2, … L - 1.\n"
   ]
  },
  {
   "cell_type": "markdown",
   "metadata": {},
   "source": [
    "The [PositionalEncoding](https://pytorch.org/tutorials/beginner/transformer_tutorial.html) module below lets us add the positional encoding to the embedding vector. In addition, dropout is also applied to the sums of the embeddings and the positional encodings, in both the Encoder and Decoder stacks. In the original paper, for the base model, a rate of $P_{drop}=0.1$. Note that this is just a hypothetical example using a matrix of zeros, where the embedding dim =20, to showcase the PE function."
   ]
  },
  {
   "cell_type": "code",
   "execution_count": 6,
   "metadata": {},
   "outputs": [],
   "source": [
    "from torch.autograd import Variable\n",
    "class PositionalEncoding(nn.Module):\n",
    "    \"Implement the PE function.\"\n",
    "    def __init__(self, d_model, dropout, max_len=500):\n",
    "        super(PositionalEncoding, self).__init__()\n",
    "        self.dropout = nn.Dropout(p=dropout)\n",
    "        print(\"dropout:\", dropout)\n",
    "        # Compute the positional encodings once in log space.\n",
    "        pe = torch.zeros(max_len, d_model)\n",
    "        \n",
    "        print(\"d_model:\", d_model)\n",
    "        position = torch.arange(0.0, max_len).unsqueeze(1)\n",
    "        div_term = torch.exp(torch.arange(0.0, d_model, 2) *\n",
    "                             -(math.log(10000.0) / d_model))\n",
    "        pe[:, 0::2] = torch.sin(position * div_term)\n",
    "        pe[:, 1::2] = torch.cos(position * div_term)\n",
    "        pe = pe.unsqueeze(0)\n",
    "        print(\"pe:\", pe[:,0:2])\n",
    "    \n",
    "        self.register_buffer('pe', pe)\n",
    "        \n",
    "    def forward(self, x):\n",
    "        \n",
    "        x = x + Variable(self.pe[:, :x.size(1)], \n",
    "                         requires_grad=False)\n",
    "        return self.dropout(x)\n"
   ]
  },
  {
   "cell_type": "code",
   "execution_count": 7,
   "metadata": {},
   "outputs": [
    {
     "name": "stdout",
     "output_type": "stream",
     "text": [
      "dropout: 0\n",
      "d_model: 20\n",
      "pe: tensor([[[0.0000e+00, 1.0000e+00, 0.0000e+00, 1.0000e+00, 0.0000e+00, 1.0000e+00, 0.0000e+00, 1.0000e+00, 0.0000e+00, 1.0000e+00, 0.0000e+00, 1.0000e+00, 0.0000e+00, 1.0000e+00, 0.0000e+00, 1.0000e+00, 0.0000e+00, 1.0000e+00, 0.0000e+00, 1.0000e+00],\n",
      "         [8.4147e-01, 5.4030e-01, 3.8767e-01, 9.2180e-01, 1.5783e-01, 9.8747e-01, 6.3054e-02, 9.9801e-01, 2.5116e-02, 9.9968e-01, 9.9998e-03, 9.9995e-01, 3.9811e-03, 9.9999e-01, 1.5849e-03, 1.0000e+00, 6.3096e-04, 1.0000e+00, 2.5119e-04, 1.0000e+00]]])\n"
     ]
    },
    {
     "data": {
      "image/png": "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