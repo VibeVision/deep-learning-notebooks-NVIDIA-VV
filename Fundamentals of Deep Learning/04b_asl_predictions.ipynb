{
 "cells": [
  {
   "cell_type": "markdown",
   "metadata": {},
   "source": [
    "<img src=\"./images/DLI_Header.png\" style=\"width: 400px;\">"
   ]
  },
  {
   "cell_type": "markdown",
   "metadata": {},
   "source": [
    "# Deploying Your Model\n",
    "Now that we have a well trained model, it's time to use it. In this exercise, we'll expose new images to our model and detect the correct letters of the sign language alphabet. Let's get started!"
   ]
  },
  {
   "cell_type": "markdown",
   "metadata": {},
   "source": [
    "## Objectives"
   ]
  },
  {
   "cell_type": "markdown",
   "metadata": {},
   "source": [
    "* Load an already-trained model from disk\n",
    "* Reformat images for a model trained on images of a different format\n",
    "* Perform inference with new images, never seen by the trained model and evaluate its performance"
   ]
  },
  {
   "cell_type": "markdown",
   "metadata": {},
   "source": [
    "## Loading the Model\n",
    "Now that we're in a new notebook, let's load the saved model that we trained. Our save from the previous exercise created a folder called \"asl_model\". We can load the model by selecting the same folder."
   ]
  },
  {
   "cell_type": "code",
   "execution_count": 1,
   "metadata": {},
   "outputs": [],
   "source": [
    "from tensorflow import keras\n",
    "\n",
    "model = keras.models.load_model('asl_model')"
   ]
  },
  {
   "cell_type": "markdown",
   "metadata": {},
   "source": [
    "If you'd like to make sure everything looks intact, you can see the summary of the model again."
   ]
  },
  {
   "cell_type": "code",
   "execution_count": 2,
   "metadata": {},
   "outputs": [
    {
     "name": "stdout",
     "output_type": "stream",
     "text": [
      "Model: \"sequential\"\n",
      "_________________________________________________________________\n",
      "Layer (type)                 Output Shape              Param #   \n",
      "=================================================================\n",
      "conv2d (Conv2D)              (None, 28, 28, 75)        750       \n",
      "_________________________________________________________________\n",
      "batch_normalization (BatchNo (None, 28, 28, 75)        300       \n",
      "_________________________________________________________________\n",
      "max_pooling2d (MaxPooling2D) (None, 14, 14, 75)        0         \n",
      "_________________________________________________________________\n",
      "conv2d_1 (Conv2D)            (None, 14, 14, 50)        33800     \n",
      "_________________________________________________________________\n",
      "dropout (Dropout)            (None, 14, 14, 50)        0         \n",
      "_________________________________________________________________\n",
      "batch_normalization_1 (Batch (None, 14, 14, 50)        200       \n",
      "_________________________________________________________________\n",
      "max_pooling2d_1 (MaxPooling2 (None, 7, 7, 50)          0         \n",
      "_________________________________________________________________\n",
      "conv2d_2 (Conv2D)            (None, 7, 7, 25)          11275     \n",
      "_________________________________________________________________\n",
      "batch_normalization_2 (Batch (None, 7, 7, 25)          100       \n",
      "_________________________________________________________________\n",
      "max_pooling2d_2 (MaxPooling2 (None, 4, 4, 25)          0         \n",
      "_________________________________________________________________\n",
      "flatten (Flatten)            (None, 400)               0         \n",
      "_________________________________________________________________\n",
      "dense (Dense)                (None, 512)               205312    \n",
      "_________________________________________________________________\n",
      "dropout_1 (Dropout)          (None, 512)               0         \n",
      "_________________________________________________________________\n",
      "dense_1 (Dense)              (None, 24)                12312     \n",
      "=================================================================\n",
      "Total params: 264,049\n",
      "Trainable params: 263,749\n",
      "Non-trainable params: 300\n",
      "_________________________________________________________________\n"
     ]
    }
   ],
   "source": [
    "model.summary()"
   ]
  },
  {
   "cell_type": "markdown",
   "metadata": {},
   "source": [
    "## Preparing an Image for the Model"
   ]
  },
  {
   "cell_type": "markdown",
   "metadata": {},
   "source": [
    "It's now time to use the model to make predictions on new images that it's never seen before. This is also called inference. We've given you a set of images in the asl_images folder. Try opening it using the left navigation and explore the images.\n",
    "\n",
    "You'll notice that the images we have are much higher resolution than the images in our dataset. They are also in color. Remember that our images in the dataset were 28x28 pixels and grayscale. It's important to keep in mind that whenever you make predictions with a model, the input must match the shape of the data that the model was trained on. For this model, the training dataset was of the shape: (27455, 28, 28, 1). This corresponded to 27455 images of 28 by 28 pixels each with one color channel (grayscale). "
   ]
  },
  {
   "cell_type": "markdown",
   "metadata": {},
   "source": [
    "### Showing the Images"
   ]
  },
  {
   "cell_type": "markdown",
   "metadata": {},
   "source": [
    "When we use our model to make predictions on new images, it will be useful to show the image as well. We can use the matplotlib library to do this."
   ]
  },
  {
   "cell_type": "code",
   "execution_count": 3,
   "metadata": {},
   "outputs": [],
   "source": [
    "import matplotlib.pyplot as plt\n",
    "import matplotlib.image as mpimg\n",
    "\n",
    "def show_image(image_path):\n",
    "    image = mpimg.imread(image_path)\n",
    "    plt.imshow(image)"
   ]
  },
  {
   "cell_type": "code",
   "execution_count": 4,
   "metadata": {},
   "outputs": [
    {
     "data": {
      "image/png": "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