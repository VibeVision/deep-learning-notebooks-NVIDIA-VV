{
 "cells": [
  {
   "cell_type": "markdown",
   "metadata": {},
   "source": [
    "<img src=\"./images/DLI_Header.png\" style=\"width: 400px;\">"
   ]
  },
  {
   "cell_type": "markdown",
   "metadata": {},
   "source": [
    "# Transfer Learning"
   ]
  },
  {
   "cell_type": "markdown",
   "metadata": {},
   "source": [
    "So far, we have trained accurate models on large datasets, and also downloaded a pre-trained model that we used with no training necessary. But what if we cannot find a pre-trained model that does exactly what you need, and what if we do not have a sufficiently large dataset to train a model from scratch? In this case, there is a very helpful technique we can use called [transfer learning](https://blogs.nvidia.com/blog/2019/02/07/what-is-transfer-learning/).\n",
    "\n",
    "With transfer learning, we take a pre-trained model and retrain it on a task that has some overlap with the original training task. A good analogy for this is an artist who is skilled in one medium, such as painting, who wants to learn to practice in another medium, such as charcoal drawing. We can imagine that the skills they learned while painting would be very valuable in learning how to draw with charcoal. \n",
    "\n",
    "As an example in deep learning, say we have a pre-trained model that is very good at recognizing different types of cars, and we want to train a model to recognize types of motorcycles. A lot of the learnings of the car model would likely be very useful, for instance the ability to recognize headlights and wheels. \n",
    "\n",
    "Transfer learning is especially powerful when we do not have a large and varied dataset. In this case, a model trained from scratch would likely memorize the training data quickly, but not be able to generalize well to new data. With transfer learning, you can increase your chances of training an accurate and robust model on a small dataset."
   ]
  },
  {
   "cell_type": "markdown",
   "metadata": {},
   "source": [
    "## Objectives"
   ]
  },
  {
   "cell_type": "markdown",
   "metadata": {},
   "source": [
    "* Prepare a pretrained model for transfer learning\n",
    "* Perform transfer learning with your own small dataset on a pretrained model\n",
    "* Further fine tune the model for even better performance"
   ]
  },
  {
   "cell_type": "markdown",
   "metadata": {},
   "source": [
    "## A Personalized Doggy Door"
   ]
  },
  {
   "cell_type": "markdown",
   "metadata": {},
   "source": [
    "In our last exercise, we used a pre-trained [ImageNet](http://www.image-net.org/) model to let in all dogs, but keep out other animals. In this exercise, we would like to create a doggy door that only lets in a particular dog. In this case, we will make an automatic doggy door for a dog named Bo, the United States First Dog between 2009 and 2017. There are more pictures of Bo in the `presidential_doggy_door` folder."
   ]
  },
  {
   "cell_type": "markdown",
   "metadata": {},
   "source": [
    "<img src=\"presidential_doggy_door/train/bo/bo_10.jpg\">"
   ]
  },
  {
   "cell_type": "markdown",
   "metadata": {},
   "source": [
    "The challenge is that the pre-trained model was not trained to recognize this specific dog, and, we only have 30 pictures of Bo. If we tried to train a model from scratch using those 30 pictures we would experience overfitting and poor generalization. However, if we start with a pre-trained model that is adept at detecting dogs, we can leverage that learning to gain a generalized understanding of Bo using our smaller dataset. We can use transfer learning to solve this challenge."
   ]
  },
  {
   "cell_type": "markdown",
   "metadata": {},
   "source": [
    "## Downloading the Pretrained Model"
   ]
  },
  {
   "cell_type": "markdown",
   "metadata": {},
   "source": [
    "The [ImageNet pre-trained models](https://keras.io/api/applications/vgg/#vgg16-function) are often good choices for computer vision transfer learning, as they have learned to classify various different types of images. In doing this, they have learned to detect many different types of [features](https://developers.google.com/machine-learning/glossary#) that could be valuable in image recognition. Because ImageNet models have learned to detect animals, including dogs, it is especially well suited for this transfer learning task of detecting Bo.\n",
    "\n",
    "Let us start by downloading the pre-trained model. Again, this is available directly from the Keras library. As we are downloading, there is going to be an important difference. The last layer of an ImageNet model is a [dense layer](https://developers.google.com/machine-learning/glossary#dense-layer) of 1000 units, representing the 1000 possible classes in the dataset. In our case, we want it to make a different classification: is this Bo or not? Because we want the classification to be different, we are going to remove the last layer of the model. We can do this by setting the flag `include_top=False` when downloading the model. After removing this top layer, we can add new layers that will yield the type of classification that we want:"
   ]
  },
  {
   "cell_type": "code",
   "execution_count": 1,
   "metadata": {},
   "outputs": [
    {
     "name": "stdout",
     "output_type": "stream",
     "text": [
      "Downloading data from https://storage.googleapis.com/tensorflow/keras-applications/vgg16/vgg16_weights_tf_dim_ordering_tf_kernels_notop.h5\n",
      "58892288/58889256 [==============================] - 0s 0us/step\n"
     ]
    }
   ],
   "source": [
    "from tensorflow import keras\n",
    "\n",
    "base_model = keras.applications.VGG16(\n",
    "    weights='imagenet',  # Load weights pre-trained on ImageNet.\n",
    "    input_shape=(224, 224, 3),\n",
    "    include_top=False)"
   ]
  },
  {
   "cell_type": "code",
   "execution_count": 2,
   "metadata": {},
   "outputs": [
    {
     "name": "stdout",
     "output_type": "stream",
     "text": [
      "Model: \"vgg16\"\n",
      "_________________________________________________________________\n",
      "Layer (type)                 Output Shape              Param #   \n",
      "=================================================================\n",
      "input_1 (InputLayer)         [(None, 224, 224, 3)]     0         \n",
      "_________________________________________________________________\n",
      "block1_conv1 (Conv2D)        (None, 224, 224, 64)      1792      \n",
      "_________________________________________________________________\n",
      "block1_conv2 (Conv2D)        (None, 224, 224, 64)      36928     \n",
      "_________________________________________________________________\n",
      "block1_pool (MaxPooling2D)   (None, 112, 112, 64)      0         \n",
      "_________________________________________________________________\n",
      "block2_conv1 (Conv2D)        (None, 112, 112, 128)     73856     \n",
      "_________________________________________________________________\n",
      "block2_conv2 (Conv2D)        (None, 112, 112, 128)     147584    \n",
      "_________________________________________________________________\n",
      "block2_pool (MaxPooling2D)   (None, 56, 56, 128)       0         \n",
      "_________________________________________________________________\n",
      "block3_conv1 (Conv2D)        (None, 56, 56, 256)       295168    \n",
      "_________________________________________________________________\n",
      "block3_conv2 (Conv2D)        (None, 56, 56, 256)       590080    \n",
      "_________________________________________________________________\n",
      "block3_conv3 (Conv2D)        (None, 56, 56, 256)       590080    \n",
      "_________________________________________________________________\n",
      "block3_pool (MaxPooling2D)   (None, 28, 28, 256)       0         \n",
      "_________________________________________________________________\n",
      "block4_conv1 (Conv2D)        (None, 28, 28, 512)       1180160   \n",
      "_________________________________________________________________\n",
      "block4_conv2 (Conv2D)        (None, 28, 28, 512)       2359808   \n",
      "_________________________________________________________________\n",
      "block4_conv3 (Conv2D)        (None, 28, 28, 512)       2359808   \n",
      "_________________________________________________________________\n",
      "block4_pool (MaxPooling2D)   (None, 14, 14, 512)       0         \n",
      "_________________________________________________________________\n",
      "block5_conv1 (Conv2D)        (None, 14, 14, 512)       2359808   \n",
      "_________________________________________________________________\n",
      "block5_conv2 (Conv2D)        (None, 14, 14, 512)       2359808   \n",
      "_________________________________________________________________\n",
      "block5_conv3 (Conv2D)        (None, 14, 14, 512)       2359808   \n",
      "_________________________________________________________________\n",
      "block5_pool (MaxPooling2D)   (None, 7, 7, 512)         0         \n",
      "=================================================================\n",
      "Total params: 14,714,688\n",
      "Trainable params: 14,714,688\n",
      "Non-trainable params: 0\n",
      "_________________________________________________________________\n"
     ]
    }
   ],
   "source": [
    "base_model.summary()"
   ]
  },
  {
   "cell_type": "markdown",
   "metadata": {},
   "source": [
    "## Freezing the Base Model\n",
    "Before we add our new layers onto the [pre-trained model](https://developers.google.com/machine-learning/glossary#pre-trained-model), we should take an important step: freezing the model's pre-trained layers. This means that when we train, we will not update the base layers from the pre-trained model. Instead we will only update the new layers that we add on the end for our new classification. We freeze the initial layers because we want to retain the learning achieved from training on the ImageNet dataset. If they were unfrozen at this stage, we would likely destroy this valuable information. There will be an option to unfreeze and train these layers later, in a process called fine-tuning.\n",
    "\n",
    "Freezing the base layers is as simple as setting trainable on the model to `False`."
   ]
  },
  {
   "cell_type": "code",
   "execution_count": 3,
   "metadata": {},
   "outputs": [],
   "source": [
    "base_model.trainable = False"
   ]
  },
  {
   "cell_type": "markdown",
   "metadata": {},
   "source": [
    "## Adding New Layers"
   ]
  },
  {
   "cell_type": "markdown",
   "metadata": {},
   "source": [
    "We can now add the new trainable layers to the pre-trained model. They will take the features from the pre-trained layers and turn them into predictions on the new dataset. We will add two layers to the model. First will be a pooling layer like we saw in our earlier [convolutional neural network](https://developers.google.com/machine-learning/glossary#convolutional_layer). (If you want a more thorough understanding of the role of pooling layers in CNNs, please read [this detailed blog post](https://machinelearningmastery.com/pooling-layers-for-convolutional-neural-networks/#:~:text=A%20pooling%20layer%20is%20a,Convolutional%20Layer)). We then need to add our final layer, which will classify Bo or not Bo. This will be a densely connected layer with one output."
   ]
  },
  {
   "cell_type": "code",
   "execution_count": 4,
   "metadata": {},
   "outputs": [],
   "source": [
    "inputs = keras.Input(shape=(224, 224, 3))\n",
    "# Separately from setting trainable on the model, we set training to False \n",
    "x = base_model(inputs, training=False)\n",
    "x = keras.layers.GlobalAveragePooling2D()(x)\n",
    "# A Dense classifier with a single unit (binary classification)\n",
    "outputs = keras.layers.Dense(1)(x)\n",
    "model = keras.Model(inputs, outputs)"
   ]
  },
  {
   "cell_type": "markdown",
   "metadata": {},
   "source": [
    "Let us take a look at the model, now that we have combined the pre-trained model with the new layers."
   ]
  },
  {
   "cell_type": "code",
   "execution_count": 5,
   "metadata": {},
   "outputs": [
    {
     "name": "stdout",
     "output_type": "stream",
     "text": [
      "Model: \"model\"\n",
      "_________________________________________________________________\n",
      "Layer (type)                 Output Shape              Param #   \n",
      "=================================================================\n",
      "input_2 (InputLayer)         [(None, 224, 224, 3)]     0         \n",
      "_________________________________________________________________\n",
      "vgg16 (Model)                (None, 7, 7, 512)         14714688  \n",
      "_________________________________________________________________\n",
      "global_average_pooling2d (Gl (None, 512)               0         \n",
      "_________________________________________________________________\n",
      "dense (Dense)                (None, 1)                 513       \n",
      "=================================================================\n",
      "Total params: 14,715,201\n",
      "Trainable params: 513\n",
      "Non-trainable params: 14,714,688\n",
      "_________________________________________________________________\n"
     ]
    }
   ],
   "source": [
    "model.summary()"
   ]
  },
  {
   "cell_type": "markdown",
   "metadata": {},
   "source": [
    "Keras gives us a nice summary here, as it shows the vgg16 pre-trained model as one unit, rather than showing all of the internal layers. It is also worth noting that we have many non-trainable parameters as we have frozen the pre-trained model. "
   ]
  },
  {
   "cell_type": "markdown",
   "metadata": {},
   "source": [
    "## Compiling the Model"
   ]
  },
  {
   "cell_type": "markdown",
   "metadata": {},
   "source": [
    "As with our previous exercises, we need to compile the model with loss and metrics options. We have to make some different choices here. In previous cases we had many categories in our classification problem. As a result, we picked categorical crossentropy for the calculation of our loss. In this case we only have a binary classification problem (Bo or not Bo), and so we will use [binary crossentropy](https://www.tensorflow.org/api_docs/python/tf/keras/losses/BinaryCrossentropy). Further detail about the differences between the two can found [here](https://gombru.github.io/2018/05/23/cross_entropy_loss/). We will also use binary accuracy instead of traditional accuracy.\n",
    "\n",
    "By setting `from_logits=True` we inform the [loss function](https://gombru.github.io/2018/05/23/cross_entropy_loss/) that the output values are not normalized (e.g. with softmax)."
   ]
  },
  {
   "cell_type": "code",
   "execution_count": 6,
   "metadata": {},
   "outputs": [],
   "source": [
    "# Important to use binary crossentropy and binary accuracy as we now have a binary classification problem\n",
    "model.compile(loss=keras.losses.BinaryCrossentropy(from_logits=True), metrics=[keras.metrics.BinaryAccuracy()])"
   ]
  },
  {
   "cell_type": "markdown",
   "metadata": {},
   "source": [
    "## Augmenting the Data"
   ]
  },
  {
   "cell_type": "markdown",
   "metadata": {},
   "source": [
    "Now that we are dealing with a very small dataset, it is especially important that we augment our data. As before, we will make small modifications to the existing images, which will allow the model to see a wider variety of images to learn from. This will help it learn to recognize new pictures of Bo instead of just memorizing the pictures it trains on."
   ]
  },
  {
   "cell_type": "code",
   "execution_count": 7,
   "metadata": {},
   "outputs": [],
   "source": [
    "from tensorflow.keras.preprocessing.image import ImageDataGenerator\n",
    "# create a data generator\n",
    "datagen = ImageDataGenerator(\n",
    "        samplewise_center=True,  # set each sample mean to 0\n",
    "        rotation_range=10,  # randomly rotate images in the range (degrees, 0 to 180)\n",
    "        zoom_range = 0.1, # Randomly zoom image \n",
    "        width_shift_range=0.1,  # randomly shift images horizontally (fraction of total width)\n",
    "        height_shift_range=0.1,  # randomly shift images vertically (fraction of total height)\n",
    "        horizontal_flip=True,  # randomly flip images\n",
    "        vertical_flip=False) # we don't expect Bo to be upside-down so we will not flip vertically"
   ]
  },
  {
   "cell_type": "markdown",
   "metadata": {},
   "source": [
    "## Loading the Data"
   ]
  },
  {
   "cell_type": "markdown",
   "metadata": {},
   "source": [
    "We have seen datasets in a couple different formats so far. In the MNIST exercise, we were able to download the dataset directly from within the Keras library. For the sign language dataset, the data was in CSV files. For this exercise, we are going to load images directly from folders using Keras' [`flow_from_directory`](https://keras.io/api/preprocessing/image/) function. We have set up our directories to help this process go smoothly. In the `presidential_doggy_door` directory, we have train and validation directories, which each have folders for images of Bo and not Bo. In the not_bo directories, we have pictures of other dogs and cats, to teach our model to keep out other pets. Feel free to explore the images to get a sense of our dataset.\n",
    "\n",
    "Note that [flow_from_directory](https://keras.io/api/preprocessing/image/) will also allow us to size our images to match the model: 244x244 pixels with 3 channels."
   ]
  },
  {
   "cell_type": "code",
   "execution_count": 8,
   "metadata": {},
   "outputs": [
    {
     "name": "stdout",
     "output_type": "stream",
     "text": [
      "Found 139 images belonging to 2 classes.\n",
      "Found 30 images belonging to 2 classes.\n"
     ]
    }
   ],
   "source": [
    "# load and iterate training dataset\n",
    "train_it = datagen.flow_from_directory('presidential_doggy_door/train/', \n",
    "                                       target_size=(224, 224), \n",
    "                                       color_mode='rgb', \n",
    "                                       class_mode='binary', \n",
    "                                       batch_size=8)\n",
    "# load and iterate validation dataset\n",
    "valid_it = datagen.flow_from_directory('presidential_doggy_door/valid/', \n",
    "                                      target_size=(224, 224), \n",
    "                                      color_mode='rgb', \n",
    "                                      class_mode='binary', \n",
    "                                      batch_size=8)"
   ]
  },
  {
   "cell_type": "markdown",
   "metadata": {},
   "source": [
    "## Training the Model"
   ]
  },
  {
   "cell_type": "markdown",
   "metadata": {},
   "source": [
    "Time to train our model and see how it does. Recall that when using a data generator, we have to explicitly set the number of `steps_per_epoch`:"
   ]
  },
  {
   "cell_type": "code",
   "execution_count": 9,
   "metadata": {},
   "outputs": [
    {
     "name": "stdout",
     "output_type": "stream",
     "text": [
      "Epoch 1/20\n",
      "12/12 [==============================] - 5s 428ms/step - loss: 1.6956 - binary_accuracy: 0.7396 - val_loss: 1.3121 - val_binary_accuracy: 0.5667\n",
      "Epoch 2/20\n",
      "12/12 [==============================] - 2s 175ms/step - loss: 0.7614 - binary_accuracy: 0.8022 - val_loss: 1.2478 - val_binary_accuracy: 0.7667\n",
      "Epoch 3/20\n",
      "12/12 [==============================] - 2s 150ms/step - loss: 0.3759 - binary_accuracy: 0.9011 - val_loss: 0.8063 - val_binary_accuracy: 0.7333\n",
      "Epoch 4/20\n",
      "12/12 [==============================] - 2s 145ms/step - loss: 0.2568 - binary_accuracy: 0.8542 - val_loss: 0.3458 - val_binary_accuracy: 0.8333\n",
      "Epoch 5/20\n",
      "12/12 [==============================] - 2s 129ms/step - loss: 0.0981 - binary_accuracy: 0.9451 - val_loss: 0.6383 - val_binary_accuracy: 0.8000\n",
      "Epoch 6/20\n",
      "12/12 [==============================] - 2s 146ms/step - loss: 0.1203 - binary_accuracy: 0.9670 - val_loss: 0.3337 - val_binary_accuracy: 0.9000\n",
      "Epoch 7/20\n",
      "12/12 [==============================] - 2s 145ms/step - loss: 0.0742 - binary_accuracy: 0.9688 - val_loss: 0.1539 - val_binary_accuracy: 0.9333\n",
      "Epoch 8/20\n",
      "12/12 [==============================] - 1s 119ms/step - loss: 0.0215 - binary_accuracy: 1.0000 - val_loss: 0.1031 - val_binary_accuracy: 0.9333\n",
      "Epoch 9/20\n",
      "12/12 [==============================] - 2s 143ms/step - loss: 0.0109 - binary_accuracy: 1.0000 - val_loss: 0.0902 - val_binary_accuracy: 0.9333\n",
      "Epoch 10/20\n",
      "12/12 [==============================] - 2s 134ms/step - loss: 0.0094 - binary_accuracy: 1.0000 - val_loss: 0.0487 - val_binary_accuracy: 1.0000\n",
      "Epoch 11/20\n",
      "12/12 [==============================] - 2s 150ms/step - loss: 0.0122 - binary_accuracy: 1.0000 - val_loss: 0.0302 - val_binary_accuracy: 0.9667\n",
      "Epoch 12/20\n",
      "12/12 [==============================] - 2s 132ms/step - loss: 0.0063 - binary_accuracy: 1.0000 - val_loss: 0.1134 - val_binary_accuracy: 0.9667\n",
      "Epoch 13/20\n",
      "12/12 [==============================] - 2s 146ms/step - loss: 0.0022 - binary_accuracy: 1.0000 - val_loss: 0.0231 - val_binary_accuracy: 1.0000\n",
      "Epoch 14/20\n",
      "12/12 [==============================] - 2s 144ms/step - loss: 0.0012 - binary_accuracy: 1.0000 - val_loss: 0.0082 - val_binary_accuracy: 1.0000\n",
      "Epoch 15/20\n",
      "12/12 [==============================] - 1s 122ms/step - loss: 0.0020 - binary_accuracy: 1.0000 - val_loss: 0.0281 - val_binary_accuracy: 1.0000\n",
      "Epoch 16/20\n",
      "12/12 [==============================] - 2s 149ms/step - loss: 0.0043 - binary_accuracy: 1.0000 - val_loss: 0.0022 - val_binary_accuracy: 1.0000\n",
      "Epoch 17/20\n",
      "12/12 [==============================] - 2s 129ms/step - loss: 1.8678e-04 - binary_accuracy: 1.0000 - val_loss: 0.0024 - val_binary_accuracy: 1.0000\n",
      "Epoch 18/20\n",
      " 1/12 [=>............................] - ETA: 0s - loss: 8.5316e-05 - binary_accuracy: 1.0000WARNING:tensorflow:Method (on_train_batch_end) is slow compared to the batch update (0.111218). Check your callbacks.\n",
      "12/12 [==============================] - 2s 143ms/step - loss: 0.0023 - binary_accuracy: 1.0000 - val_loss: 0.0228 - val_binary_accuracy: 1.0000\n",
      "Epoch 19/20\n",
      "12/12 [==============================] - 2s 135ms/step - loss: 3.1935e-04 - binary_accuracy: 1.0000 - val_loss: 0.0063 - val_binary_accuracy: 1.0000\n",
      "Epoch 20/20\n",
      "12/12 [==============================] - 2s 134ms/step - loss: 0.0026 - binary_accuracy: 1.0000 - val_loss: 0.0016 - val_binary_accuracy: 1.0000\n"
     ]
    },
    {
     "data": {
      "text/plain": [
       "<tensorflow.python.keras.callbacks.History at 0x7f2048336be0>"
      ]
     },
     "execution_count": 9,
     "metadata": {},
     "output_type": "execute_result"
    }
   ],
   "source": [
    "model.fit(train_it, steps_per_epoch=12, validation_data=valid_it, validation_steps=4, epochs=20)"
   ]
  },
  {
   "cell_type": "markdown",
   "metadata": {},
   "source": [
    "## Discussion of Results"
   ]
  },
  {
   "cell_type": "markdown",
   "metadata": {},
   "source": [
    "Both the training and validation accuracy should be quite high. This is a pretty awesome result! We were able to train on a small dataset, but because of the knowledge transferred from the ImageNet model, it was able to achieve high accuracy and generalize well. This means it has a very good sense of Bo and pets who are not Bo.\n",
    "\n",
    "If you saw some fluctuation in the validation accuracy, that is okay too. We have a technique for improving our model in the next section."
   ]
  },
  {
   "cell_type": "markdown",
   "metadata": {},
   "source": [
    "## Fine-Tuning the Model"
   ]
  },
  {
   "cell_type": "markdown",
   "metadata": {},
   "source": [
    "Now that the new layers of the model are trained, we have the option to apply a final trick to improve the model, called [fine-tuning](https://developers.google.com/machine-learning/glossary#f). To do this we unfreeze the entire model, and train it again with a very small [learning rate](https://developers.google.com/machine-learning/glossary#learning-rate). This will cause the base pre-trained layers to take very small steps and adjust slightly, improving the model by a small amount.  \n",
    "\n",
    "Note that it is important to only do this step after the model with frozen layers has been fully trained. The untrained pooling and classification layers that we added to the model earlier were randomly initialized. This means they needed to be updated quite a lot to correctly classify the images. Through the process of [backpropagation](https://developers.google.com/machine-learning/glossary#backpropagation), large initial updates in the last layers would have caused potentially large updates in the pre-trained layers as well. These updates would have destroyed those important pre-trained features. However, now that those final layers are trained and have converged, any updates to the model as a whole will be much smaller (especially with a very small learning rate) and will not destroy the features of the earlier layers.\n",
    "\n",
    "Let's try unfreezing the pre-trained layers, and then fine tuning the model:"
   ]
  },
  {
   "cell_type": "code",
   "execution_count": 10,
   "metadata": {},
   "outputs": [],
   "source": [
    "# Unfreeze the base model\n",
    "base_model.trainable = True\n",
    "\n",
    "# It's important to recompile your model after you make any changes\n",
    "# to the `trainable` attribute of any inner layer, so that your changes\n",
    "# are taken into account\n",
    "model.compile(optimizer=keras.optimizers.RMSprop(learning_rate = .00001),  # Very low learning rate\n",
    "              loss=keras.losses.BinaryCrossentropy(from_logits=True),\n",
    "              metrics=[keras.metrics.BinaryAccuracy()])"
   ]
  },
  {
   "cell_type": "code",
   "execution_count": 11,
   "metadata": {},
   "outputs": [
    {
     "name": "stdout",
     "output_type": "stream",
     "text": [
      "Epoch 1/10\n",
      "12/12 [==============================] - 8s 676ms/step - loss: 0.0748 - binary_accuracy: 0.9890 - val_loss: 0.0187 - val_binary_accuracy: 1.0000\n",
      "Epoch 2/10\n",
      "12/12 [==============================] - 2s 185ms/step - loss: 1.7754e-04 - binary_accuracy: 1.0000 - val_loss: 0.0624 - val_binary_accuracy: 0.9667\n",
      "Epoch 3/10\n",
      "12/12 [==============================] - 2s 162ms/step - loss: 8.4895e-05 - binary_accuracy: 1.0000 - val_loss: 0.0047 - val_binary_accuracy: 1.0000\n",
      "Epoch 4/10\n",
      "12/12 [==============================] - 2s 170ms/step - loss: 9.4210e-05 - binary_accuracy: 1.0000 - val_loss: 0.0033 - val_binary_accuracy: 1.0000\n",
      "Epoch 5/10\n",
      "12/12 [==============================] - 2s 175ms/step - loss: 4.5297e-06 - binary_accuracy: 1.0000 - val_loss: 0.0139 - val_binary_accuracy: 1.0000\n",
      "Epoch 6/10\n",
      "12/12 [==============================] - 2s 169ms/step - loss: 2.5743e-06 - binary_accuracy: 1.0000 - val_loss: 0.0117 - val_binary_accuracy: 1.0000\n",
      "Epoch 7/10\n",
      "12/12 [==============================] - 2s 170ms/step - loss: 1.1193e-05 - binary_accuracy: 1.0000 - val_loss: 0.0015 - val_binary_accuracy: 1.0000\n",
      "Epoch 8/10\n",
      "12/12 [==============================] - 2s 174ms/step - loss: 7.1320e-06 - binary_accuracy: 1.0000 - val_loss: 0.0149 - val_binary_accuracy: 1.0000\n",
      "Epoch 9/10\n",
      "12/12 [==============================] - 2s 167ms/step - loss: 3.8975e-06 - binary_accuracy: 1.0000 - val_loss: 0.0110 - val_binary_accuracy: 1.0000\n",
      "Epoch 10/10\n",
      "12/12 [==============================] - 2s 175ms/step - loss: 1.7543e-06 - binary_accuracy: 1.0000 - val_loss: 0.0014 - val_binary_accuracy: 1.0000\n"
     ]
    },
    {
     "data": {
      "text/plain": [
       "<tensorflow.python.keras.callbacks.History at 0x7f1fe4424978>"
      ]
     },
     "execution_count": 11,
     "metadata": {},
     "output_type": "execute_result"
    }
   ],
   "source": [
    "model.fit(train_it, steps_per_epoch=12, validation_data=valid_it, validation_steps=4, epochs=10)"
   ]
  },
  {
   "cell_type": "markdown",
   "metadata": {},
   "source": [
    "## Examining the Predictions"
   ]
  },
  {
   "cell_type": "markdown",
   "metadata": {},
   "source": [
    "Now that we have a well-trained model, it is time to create our doggy door for Bo! We can start by looking at the predictions that come from the model. We will preprocess the image in the same way we did for our last doggy door."
   ]
  },
  {
   "cell_type": "code",
   "execution_count": 12,
   "metadata": {},
   "outputs": [],
   "source": [
    "import matplotlib.pyplot as plt\n",
    "import matplotlib.image as mpimg\n",
    "from tensorflow.keras.preprocessing import image as image_utils\n",
    "from tensorflow.keras.applications.imagenet_utils import preprocess_input\n",
    "\n",
    "def show_image(image_path):\n",
    "    image = mpimg.imread(image_path)\n",
    "    plt.imshow(image)\n",
    "\n",
    "def make_predictions(image_path):\n",
    "    show_image(image_path)\n",
    "    image = image_utils.load_img(image_path, target_size=(224, 224))\n",
    "    image = image_utils.img_to_array(image)\n",
    "    image = image.reshape(1,224,224,3)\n",
    "    image = preprocess_input(image)\n",
    "    preds = model.predict(image)\n",
    "    return preds"
   ]
  },
  {
   "cell_type": "markdown",
   "metadata": {},
   "source": [
    "Try this out on a couple images to see the predictions:"
   ]
  },
  {
   "cell_type": "code",
   "execution_count": 13,
   "metadata": {},
   "outputs": [
    {
     "data": {
      "text/plain": [
       "array([[-22.07688]], dtype=float32)"
      ]
     },
     "execution_count": 13,
     "metadata": {},
     "output_type": "execute_result"
    },
    {
     "data": {
      "image/png": "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